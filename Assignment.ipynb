{
 "cells": [
  {
   "cell_type": "code",
   "execution_count": 3,
   "metadata": {
    "vscode": {
     "languageId": "ruby"
    }
   },
   "outputs": [
    {
     "ename": "TypeError",
     "evalue": "tuple indices must be integers or slices, not str",
     "output_type": "error",
     "traceback": [
      "\u001b[1;31m---------------------------------------------------------------------------\u001b[0m",
      "\u001b[1;31mTypeError\u001b[0m                                 Traceback (most recent call last)",
      "\u001b[1;32mc:\\xampp\\htdocs\\prac\\Untitled-1.ipynb Cell 1\u001b[0m in \u001b[0;36m<cell line: 82>\u001b[1;34m()\u001b[0m\n\u001b[0;32m     <a href='vscode-notebook-cell:/c%3A/xampp/htdocs/prac/Untitled-1.ipynb#W0sZmlsZQ%3D%3D?line=78'>79</a>\u001b[0m Student_class1 \u001b[39m=\u001b[39m \u001b[39m\"\u001b[39m\u001b[39mclass_\u001b[39m\u001b[39m\"\u001b[39m \u001b[39m+\u001b[39m Student_class\n\u001b[0;32m     <a href='vscode-notebook-cell:/c%3A/xampp/htdocs/prac/Untitled-1.ipynb#W0sZmlsZQ%3D%3D?line=79'>80</a>\u001b[0m stud_exam \u001b[39m=\u001b[39m \u001b[39minput\u001b[39m(\u001b[39m\"\u001b[39m\u001b[39mEnter student exam:quiz1,quiz2,mid or final: \u001b[39m\u001b[39m\"\u001b[39m)\n\u001b[1;32m---> <a href='vscode-notebook-cell:/c%3A/xampp/htdocs/prac/Untitled-1.ipynb#W0sZmlsZQ%3D%3D?line=81'>82</a>\u001b[0m \u001b[39mprint\u001b[39m(\u001b[39m\"\u001b[39m\u001b[39mMarks of\u001b[39m\u001b[39m\"\u001b[39m , students[Student_id][\u001b[39m\"\u001b[39m\u001b[39mname\u001b[39m\u001b[39m\"\u001b[39m], \u001b[39m\"\u001b[39m\u001b[39min\u001b[39m\u001b[39m\"\u001b[39m ,Student_class1, stud_exam, \u001b[39m\"\u001b[39m\u001b[39mexam is\u001b[39m\u001b[39m\"\u001b[39m,\n\u001b[0;32m     <a href='vscode-notebook-cell:/c%3A/xampp/htdocs/prac/Untitled-1.ipynb#W0sZmlsZQ%3D%3D?line=82'>83</a>\u001b[0m       students[Student_id][stud_exam])\n",
      "\u001b[1;31mTypeError\u001b[0m: tuple indices must be integers or slices, not str"
     ]
    }
   ],
   "source": [
    "class_1 = {\"name\" : \"AI\"}\n",
    "class_2 = {\"name\" : \"CNC\"}\n",
    "\n",
    "students = {\"student_101\" : \n",
    "            {\"name\" : \"Adnan\",\n",
    "             \"class_AI\" : class_1,\n",
    "             \"marks_AI\":{\n",
    "                 \"quiz1\": 40, \"quize2\":45,\n",
    "                 \"mid\": 50, \"final\":55}\n",
    "            },\n",
    "             \n",
    "   \"student_102\" : {\"name\":\"Usman\",\n",
    "             \"class_CNC\" : class_2,\n",
    "             \"marks_CNC\":{\n",
    "                 \"quiz1\": 45, \"quize2\":50,\n",
    "                 \"mid\": 60, \"final\":65}\n",
    "                   },\n",
    "            \n",
    "   \"student_103\" : {\"name\":\"Zeeshan\",\n",
    "                \"class_AI\" : class_1,\n",
    "             \"marks_AI\":{\n",
    "                 \"quiz1\": 49, \"quize2\":66,\n",
    "                 \"mid\": 70, \"final\":79}\n",
    "                   },\n",
    "            \n",
    "   \"student_104\" : {\"name\":\"Arif\",\n",
    "             \"class_CNC\" : class_2,\n",
    "             \"marks_CNC\":{\n",
    "                 \"quiz1\": 45, \"quize2\":51,\n",
    "                 \"mid\": 60, \"final\":65}\n",
    "                   },\n",
    "            \n",
    "   \"student_105\" : {\"name\":\"Mehmood\",\n",
    "             \"class_AI\" : class_1,\n",
    "             \"marks_AI\":{\n",
    "                 \"quiz1\": 50, \"quize2\":55,\n",
    "                 \"mid\": 65, \"final\":70}\n",
    "                   },\n",
    "            \n",
    "   \"student_106\" : {\"name\":\"Tanveer\",\n",
    "             \"class_CNC\" : class_2,\n",
    "             \"marks_CNC\":{\n",
    "                 \"quiz1\": 51, \"quize2\":59,\n",
    "                 \"mid\": 70, \"final\":80}\n",
    "                   },\n",
    "            \n",
    "   \"student_107\" : {\"name\":\"Nasar\",\n",
    "             \"class_AI\" : class_1,\n",
    "             \"marks_AI\":{\n",
    "                 \"quiz1\": 39, \"quize2\":44,\n",
    "                 \"mid\": 56, \"final\":65}\n",
    "                   },\n",
    "            \n",
    "   \"student_108\" : {\"name\":\"Hashir\",\n",
    "             \"class_CNC\" : class_2,\n",
    "             \"marks_CNC\":{\n",
    "                 \"quiz1\": 35, \"quize2\":45,\n",
    "                 \"mid\": 49, \"final\":55}\n",
    "                   },\n",
    "                    \n",
    "   \"student_109\" : {\"name\":\"Imran\",\n",
    "             \"class_AI\" : class_1,\n",
    "             \"marks_AI\":{\n",
    "                 \"quiz1\": 41, \"quize2\":51,\n",
    "                 \"mid\": 60, \"final\":71}\n",
    "                   },\n",
    "            \n",
    "   \"student_110\" : {\"name\":\"Noman\",\n",
    "             \"class_CNC\" : class_2,\n",
    "             \"marks_CNC\":{\n",
    "                 \"quiz1\": 60, \"quize2\":65,\n",
    "                 \"mid\": 70, \"final\":80}\n",
    "                   }\n",
    "}\n",
    "\n",
    "Student_id = input(\"Enter student id: \")\n",
    "Student_id = \"student_\" + Student_id\n",
    "Student_class = input(\"Enter student class: AI or CNC: \")\n",
    "Student_class = \"class_\" + Student_class\n",
    "stud_exam = input(\"Enter student exam:quiz1,quiz2,mid or final: \")\n",
    "\n",
    "print(\"Marks of\" , students[Student_id][\"name\"], \"in\" ,Student_class, stud_exam, \"exam is\",\n",
    "      students[Student_id][\"marks_CNC\"])"
   ]
  },
  {
   "cell_type": "code",
   "execution_count": null,
   "metadata": {},
   "outputs": [],
   "source": []
  },
  {
   "cell_type": "code",
   "execution_count": null,
   "metadata": {},
   "outputs": [],
   "source": []
  }
 ],
 "metadata": {
  "kernelspec": {
   "display_name": "Python 3.9.12 ('base')",
   "language": "python",
   "name": "python3"
  },
  "language_info": {
   "codemirror_mode": {
    "name": "ipython",
    "version": 3
   },
   "file_extension": ".py",
   "mimetype": "text/x-python",
   "name": "python",
   "nbconvert_exporter": "python",
   "pygments_lexer": "ipython3",
   "version": "3.9.12"
  },
  "orig_nbformat": 4,
  "vscode": {
   "interpreter": {
    "hash": "ee09d971b9c960cb7d08dc07b645c6ef562ed12171900e41af30fbafcc23aaae"
   }
  }
 },
 "nbformat": 4,
 "nbformat_minor": 2
}
